{
 "cells": [
  {
   "cell_type": "code",
   "execution_count": null,
   "id": "b2575ad4",
   "metadata": {},
   "outputs": [],
   "source": [
    "import scanpy as sc\n",
    "import pandas as pd\n",
    "import numpy as np\n",
    "import scipy\n",
    "import anndata as ad\n",
    "import matplotlib.pyplot as plt\n",
    "\n",
    "import os\n",
    "import warnings\n",
    "\n",
    "import squidpy as sq\n",
    "\n",
    "# Suppress all future warnings\n",
    "warnings.simplefilter(action=\"ignore\", category=FutureWarning)"
   ]
  },
  {
   "cell_type": "markdown",
   "id": "81afb613",
   "metadata": {},
   "source": [
    "### Solving directories"
   ]
  },
  {
   "cell_type": "code",
   "execution_count": null,
   "id": "e39efc2c",
   "metadata": {},
   "outputs": [
    {
     "name": "stdout",
     "output_type": "stream",
     "text": [
      "Previous working directory: c:\\Users\\sevco\\Documents\\dimplomka\\gitRepo\\Keratoacanthoma_spatial_transcriptomics\\data\n",
      "Current working directory: c:\\Users\\sevco\\Documents\\dimplomka\\gitRepo\\Keratoacanthoma_spatial_transcriptomics\\data\\healthy_skin\\raw\n"
     ]
    }
   ],
   "source": [
    "print(\"Previous working directory:\", os.getcwd())\n",
    "\n",
    "if 'notebooks' in os.getcwd():\n",
    "    os.chdir(\"..\")\n",
    "\n",
    "target_path = os.path.join(\"healthy_skin\", \"raw\")\n",
    "\n",
    "if os.path.exists(target_path) and os.path.isdir(target_path):\n",
    "    os.chdir(target_path)\n",
    "    print(\"Current working directory:\", os.getcwd())\n",
    "else:\n",
    "    print(f\"Error: The directory '{target_path}' does not exist.\")\n"
   ]
  },
  {
   "cell_type": "markdown",
   "id": "480fca5e",
   "metadata": {},
   "source": [
    "### Load Data"
   ]
  },
  {
   "cell_type": "code",
   "execution_count": null,
   "id": "129b8696",
   "metadata": {},
   "outputs": [],
   "source": [
    "# 1. Load cell metadata\n",
    "cells = pd.read_parquet(\"cells.parquet\")\n",
    "print(cells.head())\n",
    "\n",
    "# 2. Load transcript coordinates (spot-level)\n",
    "transcripts = pd.read_parquet(\"transcripts.parquet\")\n",
    "print(transcripts.head())\n",
    "\n",
    "# 3. Load gene × cell matrix\n",
    "adata = sc.read_10x_h5(\"cell_feature_matrix.h5\")\n",
    "adata.var_names_make_unique()\n",
    "\n",
    "# Add cell metadata to AnnData\n",
    "adata.obs = adata.obs.join(cells.set_index(\"cell_id\"))\n",
    "\n",
    "# 4. Load cell boundaries (if needed for plotting)\n",
    "cell_boundaries = pd.read_parquet(\"cell_boundaries.parquet\")\n",
    "# Boundaries are stored as WKT polygons\n",
    "cell_boundaries['geometry'] = cell_boundaries['polygon'].apply(wkt.loads)\n",
    "\n",
    "# 5. Load morphology image\n",
    "morph_img = tifffile.imread(\"morphology.ome.tif\")\n",
    "print(morph_img.shape)  # usually (channels, height, width) or (height, width, channels)\n"
   ]
  },
  {
   "cell_type": "markdown",
   "id": "fa12e64a",
   "metadata": {},
   "source": [
    "# QC anf filtering"
   ]
  },
  {
   "cell_type": "code",
   "execution_count": null,
   "id": "9047321f",
   "metadata": {},
   "outputs": [],
   "source": [
    "# 6. QC filtering example\n",
    "sc.pp.filter_cells(adata, min_genes=200)\n",
    "sc.pp.filter_genes(adata, min_cells=3)\n",
    "\n",
    "# 7. Normalization & log-transform\n",
    "sc.pp.normalize_total(adata, target_sum=1e4)\n",
    "sc.pp.log1p(adata)\n",
    "\n",
    "# 8. Basic clustering (optional)\n",
    "sc.pp.highly_variable_genes(adata)\n",
    "adata = adata[:, adata.var.highly_variable]\n",
    "sc.pp.scale(adata, max_value=10)\n",
    "sc.tl.pca(adata)\n",
    "sc.pp.neighbors(adata)\n",
    "sc.tl.leiden(adata)\n",
    "sc.tl.umap(adata)"
   ]
  },
  {
   "cell_type": "code",
   "execution_count": null,
   "id": "00683337",
   "metadata": {},
   "outputs": [],
   "source": [
    "# 9. Save processed AnnData\n",
    "adata.write(\"xenium_skin_processed.h5ad\")"
   ]
  }
 ],
 "metadata": {
  "kernelspec": {
   "display_name": "venv",
   "language": "python",
   "name": "python3"
  },
  "language_info": {
   "codemirror_mode": {
    "name": "ipython",
    "version": 3
   },
   "file_extension": ".py",
   "mimetype": "text/x-python",
   "name": "python",
   "nbconvert_exporter": "python",
   "pygments_lexer": "ipython3",
   "version": "3.11.0"
  }
 },
 "nbformat": 4,
 "nbformat_minor": 5
}
